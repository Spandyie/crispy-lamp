{
 "cells": [
  {
   "cell_type": "code",
   "execution_count": 104,
   "metadata": {},
   "outputs": [],
   "source": [
    "import requests\n",
    "from bs4 import BeautifulSoup\n",
    "import re\n",
    "import locale"
   ]
  },
  {
   "cell_type": "code",
   "execution_count": 111,
   "metadata": {
    "pycharm": {
     "name": "#%%\n"
    }
   },
   "outputs": [],
   "source": []
  },
  {
   "cell_type": "code",
   "execution_count": 123,
   "metadata": {
    "pycharm": {
     "name": "#%%\n"
    }
   },
   "outputs": [
    {
     "data": {
      "text/plain": [
       "{'Symbol': None,\n",
       " 'Price': 24.19,\n",
       " 'Beta': None,\n",
       " 'Volume Avrg.': None,\n",
       " 'Market Cap': 35540000000.0,\n",
       " 'Shares (2019)': '1,375,462.00K',\n",
       " 'Last Div': None,\n",
       " 'Dividend Yield': None,\n",
       " 'DCF Unlevered': -4577.9,\n",
       " 'DCF Levered': -2809.06,\n",
       " 'ROE': -0.45740000000000003,\n",
       " 'ROA': -0.2576,\n",
       " 'Operating Margin': -0.6199,\n",
       " 'Debt / Equity': 0.7753,\n",
       " 'P/E': None,\n",
       " 'P/B': None}"
      ]
     },
     "execution_count": 123,
     "metadata": {},
     "output_type": "execute_result"
    }
   ],
   "source": [
    "summary"
   ]
  },
  {
   "cell_type": "code",
   "execution_count": 148,
   "metadata": {},
   "outputs": [],
   "source": [
    "def value_to_float(value):\n",
    "    try:\n",
    "        if \",\" in value:\n",
    "            value = value.replace(\",\", \"\")\n",
    "            \n",
    "        if '$' in value:\n",
    "            value = value.replace(\"$\",\"\")\n",
    "        \n",
    "        if type(value) == float or type(value) == int:\n",
    "            return value\n",
    "        \n",
    "        if 'K' in value:\n",
    "            if len(value) > 1:\n",
    "                return float(value.replace('K', ''))* 1000\n",
    "            return 1000\n",
    "        \n",
    "        if 'B' in value:\n",
    "            if len(value) > 1:\n",
    "                return float(value.replace('B','')) * 1000000000\n",
    "            return 1000000000\n",
    "        \n",
    "        if 'M' in value:\n",
    "            if len(value) > 1:\n",
    "                return float(value.replace('M', '')) * 1000000\n",
    "            return 1000000\n",
    "        \n",
    "        if  '%' in value:\n",
    "            return round(float(value.replace('%',''))/ 100,4)\n",
    "        \n",
    "        else:\n",
    "            return float(value)\n",
    "\n",
    "    except:\n",
    "        return value\n",
    "    \n",
    "        "
   ]
  },
  {
   "cell_type": "code",
   "execution_count": 154,
   "metadata": {},
   "outputs": [
    {
     "name": "stdout",
     "output_type": "stream",
     "text": [
      "Symbol KO\n",
      "Price 51.06$\n",
      "Beta 0.558\n",
      "Volume Avrg. 15.77M\n",
      "Market Cap 219.33B\n",
      "Shares (2019) 4,314,000.00K\n",
      "Last Div 1.59\n",
      "Dividend Yield 3.11%\n",
      "DCF Unlevered 32.98\n",
      "DCF Levered 36.85\n",
      "ROE 46.99%\n",
      "ROA 10.33%\n",
      "Operating Margin 24.70%\n",
      "Debt / Equity 355.09%\n",
      "P/E 27.72\n",
      "P/B 13.03\n"
     ]
    }
   ],
   "source": [
    "resp =requests.get(f'https://financialmodelingprep.com/financial-summary/KO')\n",
    "soup = BeautifulSoup(resp.text,'html.parser')\n",
    "metric_tables = soup.find(\"div\",{\"id\", \"financial-summary\"})\n",
    "summary ={}\n",
    "table_list = metric_tables.findAll('table', attrs={'class': 'table'})\n",
    "for table in table_list:\n",
    "    for elements in table.findAll('tr'):\n",
    "        locale.setlocale(locale.LC_ALL, 'en_US.UTF-8')\n",
    "        key = elements.findAll(\"th\")[0].text\n",
    "        value = elements.findAll(\"td\")[0].text\n",
    "        try:\n",
    "            print(key, value)\n",
    "            summary[key] = value_to_float(value)\n",
    "        except:\n",
    "                print(\"Keynot found\")"
   ]
  },
  {
   "cell_type": "code",
   "execution_count": 155,
   "metadata": {},
   "outputs": [
    {
     "data": {
      "text/plain": [
       "{'Symbol': 'KO',\n",
       " 'Price': 51.06,\n",
       " 'Beta': 0.558,\n",
       " 'Volume Avrg.': 15770000.0,\n",
       " 'Market Cap': 219330000000.0,\n",
       " 'Shares (2019)': 4314000000.0,\n",
       " 'Last Div': 1.59,\n",
       " 'Dividend Yield': 0.0311,\n",
       " 'DCF Unlevered': 32.98,\n",
       " 'DCF Levered': 36.85,\n",
       " 'ROE': 0.4699,\n",
       " 'ROA': 0.1033,\n",
       " 'Operating Margin': 0.247,\n",
       " 'Debt / Equity': 3.5509,\n",
       " 'P/E': 27.72,\n",
       " 'P/B': 13.03}"
      ]
     },
     "execution_count": 155,
     "metadata": {},
     "output_type": "execute_result"
    }
   ],
   "source": [
    "summary"
   ]
  },
  {
   "cell_type": "code",
   "execution_count": null,
   "outputs": [],
   "source": [],
   "metadata": {
    "collapsed": false,
    "pycharm": {
     "name": "#%%\n"
    }
   }
  },
  {
   "cell_type": "code",
   "execution_count": null,
   "metadata": {},
   "outputs": [],
   "source": []
  },
  {
   "cell_type": "code",
   "execution_count": null,
   "metadata": {},
   "outputs": [],
   "source": []
  }
 ],
 "metadata": {
  "kernelspec": {
   "display_name": "Python 3",
   "language": "python",
   "name": "python3"
  },
  "language_info": {
   "codemirror_mode": {
    "name": "ipython",
    "version": 3
   },
   "file_extension": ".py",
   "mimetype": "text/x-python",
   "name": "python",
   "nbconvert_exporter": "python",
   "pygments_lexer": "ipython3",
   "version": "3.8.2"
  }
 },
 "nbformat": 4,
 "nbformat_minor": 1
}