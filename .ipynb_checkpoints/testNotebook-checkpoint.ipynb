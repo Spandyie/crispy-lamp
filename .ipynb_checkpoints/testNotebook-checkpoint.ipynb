{
 "cells": [
  {
   "cell_type": "code",
   "execution_count": 104,
   "metadata": {},
   "outputs": [],
   "source": [
    "import requests\n",
    "from bs4 import BeautifulSoup\n",
    "import re\n",
    "import locale"
   ]
  },
  {
   "cell_type": "code",
   "execution_count": 111,
   "metadata": {
    "pycharm": {
     "name": "#%%\n"
    }
   },
   "outputs": [],
   "source": []
  },
  {
   "cell_type": "code",
   "execution_count": 123,
   "metadata": {
    "pycharm": {
     "name": "#%%\n"
    }
   },
   "outputs": [
    {
     "data": {
      "text/plain": [
       "{'Symbol': None,\n",
       " 'Price': 24.19,\n",
       " 'Beta': None,\n",
       " 'Volume Avrg.': None,\n",
       " 'Market Cap': 35540000000.0,\n",
       " 'Shares (2019)': '1,375,462.00K',\n",
       " 'Last Div': None,\n",
       " 'Dividend Yield': None,\n",
       " 'DCF Unlevered': -4577.9,\n",
       " 'DCF Levered': -2809.06,\n",
       " 'ROE': -0.45740000000000003,\n",
       " 'ROA': -0.2576,\n",
       " 'Operating Margin': -0.6199,\n",
       " 'Debt / Equity': 0.7753,\n",
       " 'P/E': None,\n",
       " 'P/B': None}"
      ]
     },
     "execution_count": 123,
     "metadata": {},
     "output_type": "execute_result"
    }
   ],
   "source": [
    "summary"
   ]
  },
  {
   "cell_type": "code",
   "execution_count": 137,
   "metadata": {},
   "outputs": [],
   "source": [
    "def value_to_float(value):\n",
    "    try:\n",
    "        if \",\" in value:\n",
    "            value = value.replace(\",\", \"\")\n",
    "            \n",
    "        if '$' in value:\n",
    "            value = value.replace(\"$\",\"\")\n",
    "        \n",
    "        if type(value) == float or type(value) == int:\n",
    "            return value\n",
    "        \n",
    "        if 'K' in value:\n",
    "            if len(value) > 1:\n",
    "                return float(value.replace('K', ''))* 1000\n",
    "            return 1000\n",
    "        \n",
    "        if 'B' in value:\n",
    "            if len(value) > 1:\n",
    "                return float(value.replace('B','')) * 1000000000\n",
    "            return 1000000000\n",
    "        \n",
    "        if 'M' in value:\n",
    "            if len(value) > 1:\n",
    "                return float(value.replace('M', '')) * 1000000\n",
    "            return 1000000\n",
    "        \n",
    "        if  '%' in value:\n",
    "            return float(value.replace('%',''))* 100\n",
    "        \n",
    "        else:\n",
    "            return float(value)\n",
    "\n",
    "    except:\n",
    "        return value\n",
    "    \n",
    "        "
   ]
  },
  {
   "cell_type": "code",
   "execution_count": 138,
   "metadata": {},
   "outputs": [
    {
     "name": "stdout",
     "output_type": "stream",
     "text": [
      "Symbol MSFT\n",
      "Price 204.03$\n",
      "Beta 0.913\n",
      "Volume Avrg. 35.38M\n",
      "Market Cap 1,544.03B\n",
      "Shares (2020) 7,683,000.00K\n",
      "Last Div 1.99\n",
      "Dividend Yield 0.97%\n",
      "DCF Unlevered 90.32\n",
      "DCF Levered 123.83\n",
      "ROE 37.43%\n",
      "ROA 14.70%\n",
      "Operating Margin 36.94%\n",
      "Debt / Equity 154.69%\n",
      "P/E 34.96\n",
      "P/B 13.08\n"
     ]
    }
   ],
   "source": [
    "resp =requests.get(f'https://financialmodelingprep.com/financial-summary/MSFT')\n",
    "soup = BeautifulSoup(resp.text,'html.parser')\n",
    "metric_tables = soup.find(\"div\",{\"id\", \"financial-summary\"})\n",
    "summary ={}\n",
    "table_list = metric_tables.findAll('table', attrs={'class': 'table'})\n",
    "for table in table_list:\n",
    "    for elements in table.findAll('tr'):\n",
    "        locale.setlocale(locale.LC_ALL, 'en_US.UTF-8')\n",
    "        key = elements.findAll(\"th\")[0].text\n",
    "        value = elements.findAll(\"td\")[0].text\n",
    "        try:\n",
    "            print(key, value)\n",
    "            summary[key] = value_to_float(value)\n",
    "        except:\n",
    "                print(\"Keynot found\")"
   ]
  },
  {
   "cell_type": "code",
   "execution_count": 139,
   "metadata": {},
   "outputs": [
    {
     "data": {
      "text/plain": [
       "{'Symbol': 'MSFT',\n",
       " 'Price': 204.03,\n",
       " 'Beta': 0.913,\n",
       " 'Volume Avrg.': 35380000.0,\n",
       " 'Market Cap': 1544030000000.0,\n",
       " 'Shares (2020)': 7683000000.0,\n",
       " 'Last Div': 1.99,\n",
       " 'Dividend Yield': 97.0,\n",
       " 'DCF Unlevered': 90.32,\n",
       " 'DCF Levered': 123.83,\n",
       " 'ROE': 3743.0,\n",
       " 'ROA': 1470.0,\n",
       " 'Operating Margin': 3694.0,\n",
       " 'Debt / Equity': 15469.0,\n",
       " 'P/E': 34.96,\n",
       " 'P/B': 13.08}"
      ]
     },
     "execution_count": 139,
     "metadata": {},
     "output_type": "execute_result"
    }
   ],
   "source": [
    "summary"
   ]
  },
  {
   "cell_type": "code",
   "execution_count": null,
   "metadata": {},
   "outputs": [],
   "source": []
  }
 ],
 "metadata": {
  "kernelspec": {
   "display_name": "Python 3",
   "language": "python",
   "name": "python3"
  },
  "language_info": {
   "codemirror_mode": {
    "name": "ipython",
    "version": 3
   },
   "file_extension": ".py",
   "mimetype": "text/x-python",
   "name": "python",
   "nbconvert_exporter": "python",
   "pygments_lexer": "ipython3",
   "version": "3.8.2"
  }
 },
 "nbformat": 4,
 "nbformat_minor": 1
}
